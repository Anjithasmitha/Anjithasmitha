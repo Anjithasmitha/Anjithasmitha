{
  "nbformat": 4,
  "nbformat_minor": 0,
  "metadata": {
    "colab": {
      "name": "Assignment – Dictionary.ipynb",
      "provenance": [],
      "collapsed_sections": []
    },
    "kernelspec": {
      "name": "python3",
      "display_name": "Python 3"
    },
    "language_info": {
      "name": "python"
    }
  },
  "cells": [
    {
      "cell_type": "markdown",
      "source": [
        "# Assignment – Dictionary"
      ],
      "metadata": {
        "id": "ZlYx5uv_ki9w"
      }
    },
    {
      "cell_type": "markdown",
      "source": [
        "1)Write a Python program to access dictionary key’s element by index.?"
      ],
      "metadata": {
        "id": "pa_MP5pkkqWB"
      }
    },
    {
      "cell_type": "code",
      "source": [
        "num = {'Python': 80, 'java': 90, 'SE': 86}\n",
        "for i in range(len(num)):\n",
        "  print(list(num)[i])"
      ],
      "metadata": {
        "colab": {
          "base_uri": "https://localhost:8080/"
        },
        "id": "Oi7OvEjvFvVL",
        "outputId": "a12c5d26-9303-454d-bd69-ecd01ca26242"
      },
      "execution_count": 61,
      "outputs": [
        {
          "output_type": "stream",
          "name": "stdout",
          "text": [
            "Python\n",
            "java\n",
            "SE\n"
          ]
        }
      ]
    },
    {
      "cell_type": "code",
      "execution_count": 62,
      "metadata": {
        "colab": {
          "base_uri": "https://localhost:8080/"
        },
        "id": "CF5uHFOlkfHy",
        "outputId": "5ebfd179-7621-4065-e0dd-557d46a268a1"
      },
      "outputs": [
        {
          "output_type": "stream",
          "name": "stdout",
          "text": [
            "Python\n",
            "java\n",
            "SE\n"
          ]
        }
      ],
      "source": [
        "num = {'Python': 80, 'java': 90, 'SE': 86}\n",
        "print(list(num)[0])\n",
        "print(list(num)[1])\n",
        "print(list(num)[2])"
      ]
    },
    {
      "cell_type": "markdown",
      "source": [
        "2)Create a dictionary and write a program to sort the dictionary by key?"
      ],
      "metadata": {
        "id": "r2S8rpVAlpR1"
      }
    },
    {
      "cell_type": "code",
      "source": [
        "num = {'python': 80, 'java': 90, 'se': 86}\n",
        "print(sorted(num.keys()))"
      ],
      "metadata": {
        "colab": {
          "base_uri": "https://localhost:8080/"
        },
        "id": "KL6ZO4TNl6HR",
        "outputId": "165d3379-3eae-412e-c0ca-ad0f80496ae3"
      },
      "execution_count": 63,
      "outputs": [
        {
          "output_type": "stream",
          "name": "stdout",
          "text": [
            "['java', 'python', 'se']\n"
          ]
        }
      ]
    },
    {
      "cell_type": "code",
      "source": [
        "num = {'python': 80, 'java': 90, 'se': 86}\n",
        "for key in sorted(num):\n",
        "    print(\"%s: %s\" % (key, num[key]))"
      ],
      "metadata": {
        "colab": {
          "base_uri": "https://localhost:8080/"
        },
        "id": "iEDY2SpqnK3D",
        "outputId": "9ec8017f-bfb9-486b-b49f-2ef685a9d3d4"
      },
      "execution_count": 64,
      "outputs": [
        {
          "output_type": "stream",
          "name": "stdout",
          "text": [
            "java: 90\n",
            "python: 80\n",
            "se: 86\n"
          ]
        }
      ]
    },
    {
      "cell_type": "markdown",
      "source": [
        "3)Write a Python program to add a new item to a dictionary.?"
      ],
      "metadata": {
        "id": "diVxqkA8lpWY"
      }
    },
    {
      "cell_type": "code",
      "source": [
        "num = {'python': 80, 'java': 90, 'se': 86}\n",
        "num['dbms']=78\n",
        "num['sql']=60\n",
        "num"
      ],
      "metadata": {
        "colab": {
          "base_uri": "https://localhost:8080/"
        },
        "id": "msWkq4M6mje6",
        "outputId": "2ee518f6-7bb7-4c25-85f3-d1710e5ef07b"
      },
      "execution_count": 65,
      "outputs": [
        {
          "output_type": "execute_result",
          "data": {
            "text/plain": [
              "{'dbms': 78, 'java': 90, 'python': 80, 'se': 86, 'sql': 60}"
            ]
          },
          "metadata": {},
          "execution_count": 65
        }
      ]
    },
    {
      "cell_type": "markdown",
      "source": [
        "4)Write a Python program to add a new item to a dictionary.?"
      ],
      "metadata": {
        "id": "FoqBSvcvlpax"
      }
    },
    {
      "cell_type": "code",
      "source": [
        "marks={'physics':70,'history':80}\n",
        "marks['english']=68\n",
        "marks"
      ],
      "metadata": {
        "colab": {
          "base_uri": "https://localhost:8080/"
        },
        "id": "krweI_n4GZ_5",
        "outputId": "c4a4e75f-8eda-40f3-fb36-cc301629a9c3"
      },
      "execution_count": 66,
      "outputs": [
        {
          "output_type": "execute_result",
          "data": {
            "text/plain": [
              "{'english': 68, 'history': 80, 'physics': 70}"
            ]
          },
          "metadata": {},
          "execution_count": 66
        }
      ]
    },
    {
      "cell_type": "markdown",
      "source": [
        "5)Write a python program to merge two dictionaries?"
      ],
      "metadata": {
        "id": "1rLjmyMqlphx"
      }
    },
    {
      "cell_type": "code",
      "source": [
        "num = {'python': 80, 'java': 90, 'se': 86}\n",
        "num1={'dbms': 78, 'sql': 60}\n",
        "d2=dict(num.items() |num1.items())\n",
        "d2\n",
        "#\n",
        "dict(list(num.items()) + list(num1.items()))"
      ],
      "metadata": {
        "colab": {
          "base_uri": "https://localhost:8080/"
        },
        "id": "CW9r1cgWn35x",
        "outputId": "36b96dcf-e34a-49d3-a37b-c69cbc741160"
      },
      "execution_count": 67,
      "outputs": [
        {
          "output_type": "execute_result",
          "data": {
            "text/plain": [
              "{'dbms': 78, 'java': 90, 'python': 80, 'se': 86, 'sql': 60}"
            ]
          },
          "metadata": {},
          "execution_count": 67
        }
      ]
    },
    {
      "cell_type": "code",
      "source": [
        "num = {'python': 80, 'java': 90, 'se': 86}\n",
        "num1={'dbms': 78, 'sql': 60}\n",
        "{**num, **num1}"
      ],
      "metadata": {
        "colab": {
          "base_uri": "https://localhost:8080/"
        },
        "id": "c1APKV0C0_Yr",
        "outputId": "d4ee3175-a512-4444-e576-6e3112a82fba"
      },
      "execution_count": 68,
      "outputs": [
        {
          "output_type": "execute_result",
          "data": {
            "text/plain": [
              "{'dbms': 78, 'java': 90, 'python': 80, 'se': 86, 'sql': 60}"
            ]
          },
          "metadata": {},
          "execution_count": 68
        }
      ]
    },
    {
      "cell_type": "markdown",
      "source": [
        "\n",
        "\n",
        "6)Access the value of key ‘history’ from the given dictionary?\n",
        "\n",
        "sampleDict = {\n",
        "   “class”:{\n",
        "      “student”:{\n",
        "         “name”:”Ellen”,\n",
        "         “marks”:{\n",
        "            “physics”:70,\n",
        "            “history”:80\n",
        "       }}}\n",
        "}"
      ],
      "metadata": {
        "id": "D5IgdLKtkgEt"
      }
    },
    {
      "cell_type": "code",
      "source": [
        "sampleDict = {\n",
        "'class':{\n",
        "  'student':{\n",
        "     'name':'Ellen',\n",
        "     'marks':{\n",
        "        'physics':70,\n",
        "        'history':80\n",
        "     }\n",
        "\n",
        "  }\n",
        "}\n",
        "\n",
        "}\n",
        "print(sampleDict['class']['student']['marks']['history'])"
      ],
      "metadata": {
        "colab": {
          "base_uri": "https://localhost:8080/"
        },
        "id": "n0p8j5i9q5ky",
        "outputId": "5e1375a9-83ed-4ed9-a3a3-59dde8aa4648"
      },
      "execution_count": 69,
      "outputs": [
        {
          "output_type": "stream",
          "name": "stdout",
          "text": [
            "80\n"
          ]
        }
      ]
    },
    {
      "cell_type": "markdown",
      "source": [
        "\n",
        "7)Delete set of keys from the given dictionary?\n",
        "\n",
        "sampleDict = {\n",
        "“name”: “George”,\n",
        "“age”:25,\n",
        "“salary”: 8000,\n",
        "“city”: “New york”\n",
        "}\n",
        "keysToRemove = [“name”, “salary”]\n"
      ],
      "metadata": {
        "id": "ahBvVlttqY19"
      }
    },
    {
      "cell_type": "code",
      "source": [
        "sampleDict = {\n",
        "'name':'George',\n",
        "'age':25,\n",
        "'salary': 8000,\n",
        "'city': 'New york'\n",
        "}\n",
        "print(sampleDict)\n",
        "sampleDict.pop('name')\n",
        "sampleDict.pop('salary')\n",
        "print(sampleDict)"
      ],
      "metadata": {
        "colab": {
          "base_uri": "https://localhost:8080/"
        },
        "id": "HAbF16yjzTKh",
        "outputId": "e1e26709-dd8e-4b9b-bddb-5259cf527b2f"
      },
      "execution_count": 75,
      "outputs": [
        {
          "output_type": "stream",
          "name": "stdout",
          "text": [
            "{'name': 'George', 'age': 25, 'salary': 8000, 'city': 'New york'}\n",
            "{'age': 25, 'city': 'New york'}\n"
          ]
        }
      ]
    },
    {
      "cell_type": "markdown",
      "source": [
        "8)Rename the key city to location in the following dictionary? sampleDict = {\n",
        "“name”: “Bennedict”,\n",
        "“age”:25,\n",
        "“salary”: 8000,\n",
        "“city”: “New york”\n",
        "}"
      ],
      "metadata": {
        "id": "u413BYfDqqsn"
      }
    },
    {
      "cell_type": "code",
      "source": [
        "sampleDict = {\n",
        "'name': 'Bennedict',\n",
        "'age':25,\n",
        "'salary': 8000,\n",
        "'city': 'New york'\n",
        "}\n",
        "print(sampleDict)\n",
        "a=sampleDict['city']\n",
        "sampleDict['location']=a\n",
        "del sampleDict['city']\n",
        "print(sampleDict)\n"
      ],
      "metadata": {
        "colab": {
          "base_uri": "https://localhost:8080/"
        },
        "id": "YZ0fF2MK5R6s",
        "outputId": "fc636ab9-6ef4-4d64-8d6b-9475f6f7cedf"
      },
      "execution_count": 76,
      "outputs": [
        {
          "output_type": "stream",
          "name": "stdout",
          "text": [
            "{'name': 'Bennedict', 'age': 25, 'salary': 8000, 'city': 'New york'}\n",
            "{'name': 'Bennedict', 'age': 25, 'salary': 8000, 'location': 'New york'}\n"
          ]
        }
      ]
    },
    {
      "cell_type": "markdown",
      "source": [
        "\n",
        "9)Get the key of a minimum value from the following dictionary ?\n",
        "\n",
        "sampleDict = {\n",
        "‘Physics’: 82,\n",
        "‘Math’: 65,\n",
        "‘history’: 75\n",
        "}"
      ],
      "metadata": {
        "id": "WF5VnfOcqf5r"
      }
    },
    {
      "cell_type": "code",
      "source": [
        "sampleDict = {\n",
        "'Physics': 82,\n",
        "'Math': 65,\n",
        "'history': 75\n",
        "}\n",
        "l=min(sampleDict.values())\n",
        "#print(min(l))\n",
        "l"
      ],
      "metadata": {
        "colab": {
          "base_uri": "https://localhost:8080/"
        },
        "id": "YR8bX_8T-P9B",
        "outputId": "4c3183a3-bd21-4875-bb05-50532cd5fe89"
      },
      "execution_count": 72,
      "outputs": [
        {
          "output_type": "execute_result",
          "data": {
            "text/plain": [
              "65"
            ]
          },
          "metadata": {},
          "execution_count": 72
        }
      ]
    },
    {
      "cell_type": "markdown",
      "source": [
        "\n",
        "10)Change Ancy’s salary from 7500 to 9000 in the given dictionary?\n",
        "\n",
        "sampleDict = {\n",
        "’emp1′: {‘name’: ‘Ancy’, ‘salary’: 7500},\n",
        "’emp2′: {‘name’: ‘Pranav’, ‘salary’: 8000},\n",
        "’emp3′: {‘name’: ‘Vipin’, ‘salary’: 6500}\n",
        "}"
      ],
      "metadata": {
        "id": "0hHWZvc2qgA6"
      }
    },
    {
      "cell_type": "code",
      "source": [
        "sampleDict = {\n",
        "'emp1': {'name': 'Ancy', 'salary': 7500},\n",
        "'emp2': {'name': 'Pranav', 'salary': 8000},\n",
        "'emp3': {'name': 'Vipin', 'salary': 6500}\n",
        "}\n",
        "\n",
        "sampleDict['emp1']['salary']= 9000\n",
        "sampleDict"
      ],
      "metadata": {
        "colab": {
          "base_uri": "https://localhost:8080/"
        },
        "id": "_Jwkk_aS_cYW",
        "outputId": "b615fe46-322b-40c4-e73e-d9f5ee72286c"
      },
      "execution_count": 73,
      "outputs": [
        {
          "output_type": "execute_result",
          "data": {
            "text/plain": [
              "{'emp1': {'name': 'Ancy', 'salary': 9000},\n",
              " 'emp2': {'name': 'Pranav', 'salary': 8000},\n",
              " 'emp3': {'name': 'Vipin', 'salary': 6500}}"
            ]
          },
          "metadata": {},
          "execution_count": 73
        }
      ]
    }
  ]
}